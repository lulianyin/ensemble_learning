{
 "cells": [
  {
   "cell_type": "markdown",
   "metadata": {},
   "source": [
    "# 投票法"
   ]
  },
  {
   "cell_type": "markdown",
   "metadata": {},
   "source": [
    "## 思路"
   ]
  },
  {
   "cell_type": "markdown",
   "metadata": {},
   "source": [
    "&emsp;&emsp;投票法是集成学习中常用的技巧，可以帮助我们提高模型的泛化能力，减少模型的错误率。举个例子，在航空航天领域，每个零件发出的电信号都对航空器的成功发射起到重要作用。如果我们有一个二进制形式的信号：\n",
    "\n",
    "11101100100111001011011011011\n",
    "\n",
    "在传输过程中第二位发生了翻转\n",
    "\n",
    "10101100100111001011011011011\n",
    "\n",
    "&emsp;&emsp;这导致的结果可能是致命的。一个常用的纠错方法是重复多次发送数据，并以少数服从多数的方法确定正确的传输数据。一般情况下，错误总是发生在局部，因此融合多个数据是降低误差的一个好方法，这就是投票法的基本思路。\n",
    "\n",
    "&emsp;&emsp;对于回归模型来说，投票法最终的预测结果是多个其他回归模型预测结果的平均值。\n",
    "\n",
    "&emsp;&emsp;对于分类模型，硬投票法的预测结果是多个模型预测结果中出现次数最多的类别，软投票对各类预测结果的概率进行求和，最终选取概率之和最大的类标签。\n",
    "\n",
    "投票法为什么会生效？\n",
    "可以参考https://blog.csdn.net/luohenyj/article/details/78766950 证明"
   ]
  },
  {
   "cell_type": "markdown",
   "metadata": {},
   "source": [
    "## 原理分析"
   ]
  },
  {
   "cell_type": "markdown",
   "metadata": {},
   "source": [
    "&emsp;&emsp;投票法是一种遵循少数服从多数原则的集成学习模型，通过多个模型的集成降低方差，从而提高模型的鲁棒性。在理想情况下，投票法的预测效果应当优于任何一个基模型的预测效果。\n",
    "\n",
    "&emsp;&emsp;投票法在回归模型与分类模型上均可使用：\n",
    "\n",
    "- 回归投票法：预测结果是所有模型预测结果的平均值。\n",
    "- 分类投票法：预测结果是所有模型种出现最多的预测结果。\n",
    "\n",
    "&emsp;&emsp;分类投票法又可以被划分为硬投票与软投票：\n",
    "\n",
    "- 硬投票：预测结果是所有投票结果最多出现的类，硬投票不考虑概率。\n",
    "- 软投票：预测结果是所有投票结果中概率加和最大的类，软投票不考虑投票结果多寡。\n"
   ]
  },
  {
   "cell_type": "markdown",
   "metadata": {},
   "source": [
    "&emsp;&emsp;下面我们使用一个例子说明硬投票：\n",
    "\n",
    "> 对于某个样本：\n",
    ">\n",
    "> 模型 1 的预测结果是 类别 A\n",
    ">\n",
    "> 模型 2 的预测结果是 类别 B\n",
    ">\n",
    "> 模型 3 的预测结果是 类别 B\n",
    "\n",
    "有2/3的模型预测结果是B，因此硬投票法的预测结果是B\n"
   ]
  },
  {
   "cell_type": "markdown",
   "metadata": {},
   "source": [
    "&emsp;&emsp;同样的例子说明软投票：\n",
    "\n",
    "> 对于某个样本：\n",
    ">\n",
    "> 模型 1 的预测结果是 类别 A 的概率为 99%\n",
    ">\n",
    "> 模型 2 的预测结果是 类别 A 的概率为 49%\n",
    ">\n",
    "> 模型 3 的预测结果是 类别 A 的概率为 49%\n",
    "\n",
    "最终对于类别A的预测概率的平均是 (99 + 49 + 49) / 3 = 65.67%，因此软投票法的预测结果是A。\n"
   ]
  },
  {
   "cell_type": "markdown",
   "metadata": {},
   "source": [
    "&emsp;&emsp;从这个例子我们可以看出，软投票法与硬投票法可以得出完全不同的结论。相对于硬投票，软投票法考虑到了预测概率这一额外的信息，因此可以得出比硬投票法更加准确的预测结果。"
   ]
  },
  {
   "cell_type": "markdown",
   "metadata": {},
   "source": [
    "&emsp;&emsp;在投票法中，我们还需要考虑到不同的基模型可能产生的影响。理论上，基模型可以是任何已被训练好的模型。但在实际应用上，想要投票法产生较好的结果，需要满足两个条件：\n",
    "\n",
    "- 基模型之间的效果不能差别过大。当某个基模型相对于其他基模型效果过差时，该模型很可能成为噪声。\n",
    "- 基模型之间应该有较小的同质性。例如在基模型预测效果近似的情况下，基于树模型与线性模型的投票，往往优于两个树模型或两个线性模型。"
   ]
  },
  {
   "cell_type": "markdown",
   "metadata": {},
   "source": [
    "\n",
    "&emsp;&emsp;当投票合集中使用的模型能预测出清晰的类别标签时，适合使用硬投票。当投票集合中使用的模型能预测类别的概率时，适合使用软投票。软投票同样可以用于那些本身并不预测类成员概率的模型，只要他们可以输出类似于概率的预测分数值（例如支持向量机、k-最近邻和决策树）。\n",
    "\n",
    "&emsp;&emsp;投票法的局限性在于，它对所有模型的处理是一样的，这意味着所有模型对预测的贡献是一样的。如果一些模型在某些情况下很好，而在其他情况下很差，这是使用投票法时需要考虑到的一个问题。"
   ]
  },
  {
   "cell_type": "markdown",
   "metadata": {},
   "source": [
    "## 案例分析(基于sklearn，介绍pipe管道的使用以及voting的使用)"
   ]
  },
  {
   "cell_type": "markdown",
   "metadata": {},
   "source": [
    "&emsp;&emsp;Sklearn中提供了 [VotingRegressor](https://scikit-learn.org/stable/modules/generated/sklearn.ensemble.VotingRegressor.html) 与 [VotingClassifier](https://scikit-learn.org/stable/modules/generated/sklearn.ensemble.VotingClassifier.html) 两个投票方法。 &emsp;&emsp;这两种模型的操作方式相同，并采用相同的参数。使用模型需要提供一个模型列表，列表中每个模型采用Tuple的结构表示，第一个元素代表名称，第二个元素代表模型，需要保证每个模型必须拥有唯一的名称。\n",
    "\n",
    "&emsp;&emsp;例如这里，我们定义两个模型："
   ]
  },
  {
   "cell_type": "code",
   "execution_count": 1,
   "metadata": {},
   "outputs": [],
   "source": [
    "from sklearn.linear_model import LogisticRegression\n",
    "from sklearn.svm import SVC\n",
    "from sklearn.ensemble import VotingClassifier\n",
    "from sklearn.pipeline import make_pipeline\n",
    "from sklearn.preprocessing import StandardScaler"
   ]
  },
  {
   "cell_type": "code",
   "execution_count": 2,
   "metadata": {},
   "outputs": [],
   "source": [
    "models = [('lr',LogisticRegression()),('svm',SVC())]\n",
    "ensemble = VotingClassifier(estimators=models)"
   ]
  },
  {
   "cell_type": "markdown",
   "metadata": {},
   "source": [
    "&emsp;&emsp;有时某些模型需要一些预处理操作，我们可以为他们定义Pipeline完成模型预处理工作："
   ]
  },
  {
   "cell_type": "code",
   "execution_count": 3,
   "metadata": {},
   "outputs": [],
   "source": [
    "models = [('lr',LogisticRegression()),('svm',make_pipeline(StandardScaler(),SVC()))]\n",
    "ensemble = VotingClassifier(estimators=models)"
   ]
  },
  {
   "cell_type": "markdown",
   "metadata": {},
   "source": [
    "&emsp;&emsp;模型还提供了voting参数让我们选择软投票或者硬投票："
   ]
  },
  {
   "cell_type": "code",
   "execution_count": 4,
   "metadata": {},
   "outputs": [],
   "source": [
    "models = [('lr',LogisticRegression()),('svm',SVC())]\n",
    "ensemble = VotingClassifier(estimators=models, voting='soft')"
   ]
  },
  {
   "cell_type": "markdown",
   "metadata": {},
   "source": [
    "&emsp;&emsp;下面我们使用一个完整的例子演示投票法的使用：\n",
    "\n",
    "&emsp;&emsp;首先我们创建一个1000个样本，20个特征的随机数据集："
   ]
  },
  {
   "cell_type": "code",
   "execution_count": 5,
   "metadata": {},
   "outputs": [],
   "source": [
    "# test classification dataset\n",
    "from sklearn.datasets import make_classification\n",
    "# define dataset\n",
    "def get_dataset():\n",
    "    X, y = make_classification(n_samples=1000, n_features=20, n_informative=15, n_redundant=5, random_state=2)\n",
    "    # summarize the dataset\n",
    "    return X,y"
   ]
  },
  {
   "cell_type": "markdown",
   "metadata": {},
   "source": [
    "&emsp;&emsp;我们使用多个KNN模型作为基模型演示投票法，其中每个模型采用不同的邻居值K参数："
   ]
  },
  {
   "cell_type": "code",
   "execution_count": 17,
   "metadata": {},
   "outputs": [],
   "source": [
    "# get a voting ensemble of models\n",
    "def get_voting(voting):\n",
    "    # define the base models\n",
    "    models = list()\n",
    "    models.append(('knn1', KNeighborsClassifier(n_neighbors=1)))\n",
    "    models.append(('knn3', KNeighborsClassifier(n_neighbors=3)))\n",
    "    models.append(('knn5', KNeighborsClassifier(n_neighbors=5)))\n",
    "    models.append(('knn7', KNeighborsClassifier(n_neighbors=7)))\n",
    "    models.append(('knn9', KNeighborsClassifier(n_neighbors=9)))\n",
    "    # define the voting ensemble\n",
    "    ensemble = VotingClassifier(estimators=models, voting=voting)\n",
    "    return ensemble"
   ]
  },
  {
   "cell_type": "markdown",
   "metadata": {},
   "source": [
    "&emsp;&emsp;然后，我们可以创建一个模型列表来评估投票带来的提升，包括KNN模型配置的每个独立版本和硬投票模型。下面的get_models()函数可以为我们创建模型列表进行评估。"
   ]
  },
  {
   "cell_type": "code",
   "execution_count": 18,
   "metadata": {},
   "outputs": [],
   "source": [
    "# get a list of models to evaluate\n",
    "def get_models_hard():\n",
    "    models = dict()\n",
    "    models['knn1'] = KNeighborsClassifier(n_neighbors=1)\n",
    "    models['knn3'] = KNeighborsClassifier(n_neighbors=3)\n",
    "    models['knn5'] = KNeighborsClassifier(n_neighbors=5)\n",
    "    models['knn7'] = KNeighborsClassifier(n_neighbors=7)\n",
    "    models['knn9'] = KNeighborsClassifier(n_neighbors=9)\n",
    "    models['hard_voting'] = get_voting('hard')\n",
    "    return models"
   ]
  },
  {
   "cell_type": "code",
   "execution_count": 19,
   "metadata": {},
   "outputs": [],
   "source": [
    "def get_models_soft():\n",
    "    models = dict()\n",
    "    models['knn1'] = KNeighborsClassifier(n_neighbors=1)\n",
    "    models['knn3'] = KNeighborsClassifier(n_neighbors=3)\n",
    "    models['knn5'] = KNeighborsClassifier(n_neighbors=5)\n",
    "    models['knn7'] = KNeighborsClassifier(n_neighbors=7)\n",
    "    models['knn9'] = KNeighborsClassifier(n_neighbors=9)\n",
    "    models['hard_voting'] = get_voting('soft')\n",
    "    return models"
   ]
  },
  {
   "cell_type": "markdown",
   "metadata": {},
   "source": [
    "&emsp;&emsp;下面的evaluate_model()函数接收一个模型实例，并以分层10倍交叉验证三次重复的分数列表的形式返回。"
   ]
  },
  {
   "cell_type": "code",
   "execution_count": 20,
   "metadata": {},
   "outputs": [],
   "source": [
    "# evaluate a give model using cross-validation\n",
    "from sklearn.model_selection import cross_val_score, RepeatedStratifiedKFold   #Added by ljq\n",
    "def evaluate_model(model, X, y):\n",
    "    cv = RepeatedStratifiedKFold(n_splits=10, n_repeats=3, random_state=1)\n",
    "    scores = cross_val_score(model, X, y, scoring='accuracy', cv=cv, n_jobs=-1, error_score='raise')\n",
    "    return scores"
   ]
  },
  {
   "cell_type": "markdown",
   "metadata": {},
   "source": [
    "&emsp;&emsp;然后，我们可以报告每个算法的平均性能，还可以创建一个箱形图和须状图来比较每个算法的精度分数分布。"
   ]
  },
  {
   "cell_type": "code",
   "execution_count": 21,
   "metadata": {},
   "outputs": [],
   "source": [
    "from sklearn.neighbors import KNeighborsClassifier\n",
    "from matplotlib import pyplot"
   ]
  },
  {
   "cell_type": "code",
   "execution_count": 22,
   "metadata": {},
   "outputs": [
    {
     "name": "stdout",
     "output_type": "stream",
     "text": [
      ">knn1 0.876 (0.033)\n",
      ">knn3 0.886 (0.026)\n",
      ">knn5 0.892 (0.033)\n",
      ">knn7 0.896 (0.027)\n",
      ">knn9 0.900 (0.025)\n",
      ">hard_voting 0.902 (0.029)\n"
     ]
    },
    {
     "data": {
      "image/png": "[encoded data removed]",
      "text/plain": [
       "<Figure size 432x288 with 1 Axes>"
      ]
     },
     "metadata": {
      "needs_background": "light"
     },
     "output_type": "display_data"
    }
   ],
   "source": [
    "# define dataset\n",
    "import numpy as np\n",
    "X, y = get_dataset()\n",
    "# get the models to evaluate\n",
    "models = get_models_hard()\n",
    "# evaluate the models and store results\n",
    "results, names = list(), list()\n",
    "for name, model in models.items():\n",
    "    scores = evaluate_model(model, X, y)\n",
    "    results.append(scores)\n",
    "    names.append(name)\n",
    "    print('>%s %.3f (%.3f)' % (name, np.mean(scores), np.std(scores)))\n",
    "# plot model performance for comparison\n",
    "pyplot.boxplot(results, labels=names, showmeans=True)\n",
    "pyplot.show()"
   ]
  },
  {
   "cell_type": "code",
   "execution_count": 23,
   "metadata": {},
   "outputs": [
    {
     "name": "stdout",
     "output_type": "stream",
     "text": [
      ">knn1 0.876 (0.033)\n",
      ">knn3 0.886 (0.026)\n",
      ">knn5 0.892 (0.033)\n",
      ">knn7 0.896 (0.027)\n",
      ">knn9 0.900 (0.025)\n",
      ">hard_voting 0.900 (0.027)\n"
     ]
    },
    {
     "data": {
      "image/png": "[encoded data removed]",
      "text/plain": [
       "<Figure size 432x288 with 1 Axes>"
      ]
     },
     "metadata": {
      "needs_background": "light"
     },
     "output_type": "display_data"
    }
   ],
   "source": [
    "X, y = get_dataset()\n",
    "# get the models to evaluate\n",
    "models = get_models_soft()\n",
    "# evaluate the models and store results\n",
    "results, names = list(), list()\n",
    "for name, model in models.items():\n",
    "    scores = evaluate_model(model, X, y)\n",
    "    results.append(scores)\n",
    "    names.append(name)\n",
    "    print('>%s %.3f (%.3f)' % (name, np.mean(scores), np.std(scores)))\n",
    "# plot model performance for comparison\n",
    "pyplot.boxplot(results, labels=names, showmeans=True)\n",
    "pyplot.show()"
   ]
  },
  {
   "cell_type": "markdown",
   "metadata": {},
   "source": [
    "&emsp;&emsp;我们得到的结果如下：    \n",
    ">knn1 0.873 (0.030)    \n",
    ">knn3 0.889 (0.038)    \n",
    ">knn5 0.895 (0.031)    \n",
    ">knn7 0.899 (0.035)    \n",
    ">knn9 0.900 (0.033)    \n",
    ">hard_voting 0.902 (0.034)    "
   ]
  },
  {
   "cell_type": "markdown",
   "metadata": {},
   "source": [
    "&emsp;&emsp;显然投票的效果略大于任何一个基模型。"
   ]
  },
  {
   "cell_type": "markdown",
   "metadata": {},
   "source": [
    "&emsp;&emsp;通过箱形图我们可以看到硬投票方法对交叉验证整体预测结果分布带来的提升。"
   ]
  },
  {
   "cell_type": "markdown",
   "metadata": {},
   "source": [
    "## 问题：\n",
    "在以上结果中，硬投票的结果好于软投票。\n",
    "\n",
    "另外，我们理解的投票其实有多种机制：\n",
    "1. 多数胜出（加权多数胜出）\n",
    "2. 权威胜出（对于该结果预测的胜出）\n",
    "3. 概率和胜出（加权概率和胜出），与取平均类似\n",
    "\n",
    "sklenarn的Voting 允许加权（如果对于每个分类器有不同侧重的话，比如分类器表现不一样）\n",
    "\n",
    "以上需要查看西瓜书+sklearn源码确定\n"
   ]
  },
  {
   "cell_type": "code",
   "execution_count": null,
   "metadata": {},
   "outputs": [],
   "source": []
  }
 ],
 "metadata": {
  "kernelspec": {
   "display_name": "Python 3",
   "language": "python",
   "name": "python3"
  },
  "language_info": {
   "codemirror_mode": {
    "name": "ipython",
    "version": 3
   },
   "file_extension": ".py",
   "mimetype": "text/x-python",
   "name": "python",
   "nbconvert_exporter": "python",
   "pygments_lexer": "ipython3",
   "version": "3.7.7"
  },
  "toc": {
   "base_numbering": 1,
   "nav_menu": {},
   "number_sections": true,
   "sideBar": true,
   "skip_h1_title": false,
   "title_cell": "Table of Contents",
   "title_sidebar": "Contents",
   "toc_cell": false,
   "toc_position": {},
   "toc_section_display": true,
   "toc_window_display": false
  }
 },
 "nbformat": 4,
 "nbformat_minor": 4
}
